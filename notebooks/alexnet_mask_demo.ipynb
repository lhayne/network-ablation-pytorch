{
 "cells": [
  {
   "cell_type": "code",
   "execution_count": 1,
   "id": "98ed8dfe",
   "metadata": {},
   "outputs": [],
   "source": [
    "import torch\n",
    "import torchvision\n",
    "import urllib\n",
    "from PIL import Image\n",
    "import os\n",
    "import numpy as np\n",
    "os.chdir(\"../\")\n",
    "\n",
    "from masking.activation_model import ActivationModel\n",
    "from masking.masked_model import MaskedModel"
   ]
  },
  {
   "cell_type": "code",
   "execution_count": 2,
   "id": "c2f6e50b",
   "metadata": {},
   "outputs": [],
   "source": [
    "# Load alexnet\n",
    "alexnet = torchvision.models.alexnet(weights='DEFAULT')"
   ]
  },
  {
   "cell_type": "code",
   "execution_count": 3,
   "id": "2ae3b7be",
   "metadata": {},
   "outputs": [],
   "source": [
    "# Load image file from pytorch\n",
    "url, filename = (\"https://github.com/pytorch/hub/raw/master/images/dog.jpg\", \"img/dog.jpg\")\n",
    "try: urllib.URLopener().retrieve(url, filename)\n",
    "except: urllib.request.urlretrieve(url, filename)"
   ]
  },
  {
   "cell_type": "code",
   "execution_count": 4,
   "id": "30999280",
   "metadata": {},
   "outputs": [
    {
     "name": "stdout",
     "output_type": "stream",
     "text": [
      "torch.Size([1000])\n"
     ]
    }
   ],
   "source": [
    "# Process image\n",
    "input_image = Image.open(filename)\n",
    "preprocess = torchvision.transforms.Compose([\n",
    "    torchvision.transforms.Resize(256),\n",
    "    torchvision.transforms.CenterCrop(224),\n",
    "    torchvision.transforms.ToTensor(),\n",
    "    torchvision.transforms.Normalize(mean=[0.485, 0.456, 0.406], std=[0.229, 0.224, 0.225]),\n",
    "])\n",
    "input_tensor = preprocess(input_image)\n",
    "input_batch = input_tensor.unsqueeze(0) # create a mini-batch as expected by the model\n",
    "\n",
    "# move the input and model to GPU for speed if available\n",
    "if torch.cuda.is_available():\n",
    "    input_batch = input_batch.to('cuda')\n",
    "    alexnet.to('cuda')\n",
    "\n",
    "# Evaluate model\n",
    "with torch.no_grad():\n",
    "    output = alexnet(input_batch)\n",
    "\n",
    "# The output has unnormalized scores. To get probabilities, you can run a softmax on it.\n",
    "probabilities = torch.nn.functional.softmax(output[0], dim=0)\n",
    "print(probabilities.shape)"
   ]
  },
  {
   "cell_type": "code",
   "execution_count": 5,
   "id": "5c9892a2",
   "metadata": {},
   "outputs": [],
   "source": [
    "# Use the GetActivationsHook to get the activations after layer 9\n",
    "hooked_alexnet = ActivationModel(alexnet,['features.9'])\n",
    "with torch.no_grad():\n",
    "    hooked_alexnet(input_batch)"
   ]
  },
  {
   "cell_type": "code",
   "execution_count": 6,
   "id": "c8f03263",
   "metadata": {},
   "outputs": [
    {
     "data": {
      "text/plain": [
       "(1, 256, 13, 13)"
      ]
     },
     "execution_count": 6,
     "metadata": {},
     "output_type": "execute_result"
    }
   ],
   "source": [
    "# The GetActivationsHook conveniently provides a get activations function\n",
    "activations = hooked_alexnet.get_activations()\n",
    "activations['features.9'].shape"
   ]
  },
  {
   "cell_type": "code",
   "execution_count": 7,
   "id": "dfd986c5",
   "metadata": {},
   "outputs": [],
   "source": [
    "# Use the OutputMaskHook to mask the activations after layer 9 using the size\n",
    "hooked_alexnet = MaskedModel(alexnet,{'features.9':torch.randn([1, 256, 13, 13])})\n",
    "with torch.no_grad():\n",
    "    outputs_masked = hooked_alexnet(input_batch)\n",
    "probabilities_masked = torch.nn.functional.softmax(outputs_masked[0], dim=0)"
   ]
  },
  {
   "cell_type": "code",
   "execution_count": 8,
   "id": "c0b3736b",
   "metadata": {},
   "outputs": [
    {
     "data": {
      "text/plain": [
       "False"
      ]
     },
     "execution_count": 8,
     "metadata": {},
     "output_type": "execute_result"
    }
   ],
   "source": [
    "torch.equal(probabilities,probabilities_masked)"
   ]
  },
  {
   "cell_type": "code",
   "execution_count": null,
   "id": "52a60d70",
   "metadata": {},
   "outputs": [],
   "source": []
  }
 ],
 "metadata": {
  "interpreter": {
   "hash": "c935a15b349c3a101a60cf1e50aca3ec761298db8b4efb5d7b9cf03774813039"
  },
  "kernelspec": {
   "display_name": "Python 3.10.9 ('bert_pytorch')",
   "language": "python",
   "name": "python3"
  },
  "language_info": {
   "codemirror_mode": {
    "name": "ipython",
    "version": 3
   },
   "file_extension": ".py",
   "mimetype": "text/x-python",
   "name": "python",
   "nbconvert_exporter": "python",
   "pygments_lexer": "ipython3",
   "version": "3.10.9"
  }
 },
 "nbformat": 4,
 "nbformat_minor": 5
}
