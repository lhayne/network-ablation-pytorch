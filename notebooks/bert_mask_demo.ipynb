{
 "cells": [
  {
   "cell_type": "code",
   "execution_count": 1,
   "id": "1e7240a0",
   "metadata": {},
   "outputs": [],
   "source": [
    "import torch\n",
    "import os\n",
    "os.chdir(\"../\")\n",
    "import warnings\n",
    "warnings.filterwarnings(\"ignore\")\n",
    "\n",
    "from masking.activation_model import ActivationModel\n",
    "from masking.masked_model import MaskedModel"
   ]
  },
  {
   "cell_type": "code",
   "execution_count": 2,
   "id": "26e42ded",
   "metadata": {},
   "outputs": [
    {
     "name": "stderr",
     "output_type": "stream",
     "text": [
      "Using cache found in /Users/lhayne/.cache/torch/hub/huggingface_pytorch-transformers_main\n"
     ]
    }
   ],
   "source": [
    "tokenizer = torch.hub.load('huggingface/pytorch-transformers', 'tokenizer', 'bert-base-uncased')"
   ]
  },
  {
   "cell_type": "code",
   "execution_count": 3,
   "id": "0efeac23",
   "metadata": {},
   "outputs": [
    {
     "name": "stderr",
     "output_type": "stream",
     "text": [
      "Using cache found in /Users/lhayne/.cache/torch/hub/huggingface_pytorch-transformers_main\n",
      "Some weights of the model checkpoint at bert-base-uncased were not used when initializing BertModel: ['cls.predictions.decoder.weight', 'cls.predictions.transform.dense.weight', 'cls.predictions.transform.LayerNorm.weight', 'cls.predictions.transform.dense.bias', 'cls.predictions.bias', 'cls.seq_relationship.bias', 'cls.predictions.transform.LayerNorm.bias', 'cls.seq_relationship.weight']\n",
      "- This IS expected if you are initializing BertModel from the checkpoint of a model trained on another task or with another architecture (e.g. initializing a BertForSequenceClassification model from a BertForPreTraining model).\n",
      "- This IS NOT expected if you are initializing BertModel from the checkpoint of a model that you expect to be exactly identical (initializing a BertForSequenceClassification model from a BertForSequenceClassification model).\n"
     ]
    }
   ],
   "source": [
    "model = torch.hub.load('huggingface/pytorch-transformers', 'model', 'bert-base-uncased', output_hidden_states=True)"
   ]
  },
  {
   "cell_type": "code",
   "execution_count": 4,
   "id": "da38f94a",
   "metadata": {},
   "outputs": [],
   "source": [
    "text_1 = \"Who was Jim Henson ?\"\n",
    "text_2 = \"Jim Henson was a puppeteer\"\n",
    "\n",
    "# Tokenized input with special tokens around it (for BERT: [CLS] at the beginning and [SEP] at the end)\n",
    "indexed_tokens = tokenizer.encode(text_1, text_2, add_special_tokens=True)"
   ]
  },
  {
   "cell_type": "code",
   "execution_count": 5,
   "id": "b5df276b",
   "metadata": {},
   "outputs": [],
   "source": [
    "# Define sentence A and B indices associated to 1st and 2nd sentences (see paper)\n",
    "segments_ids = [0, 0, 0, 0, 0, 0, 0, 0, 1, 1, 1, 1, 1, 1]\n",
    "\n",
    "# Convert inputs to PyTorch tensors\n",
    "segments_tensors = torch.tensor([segments_ids])\n",
    "tokens_tensor = torch.tensor([indexed_tokens])"
   ]
  },
  {
   "cell_type": "code",
   "execution_count": 6,
   "id": "dffe99de",
   "metadata": {},
   "outputs": [],
   "source": [
    "# Evaluate model on input\n",
    "with torch.no_grad():\n",
    "    encoded_layers = model(tokens_tensor, token_type_ids=segments_tensors)"
   ]
  },
  {
   "cell_type": "code",
   "execution_count": 7,
   "id": "4d43cdba",
   "metadata": {},
   "outputs": [],
   "source": [
    "# Create hooked model\n",
    "bert_hooked = MaskedModel(model,{'encoder.layer.3.output':torch.randn((1, 14, 768))})\n",
    "\n",
    "# Create mask hook on output\n",
    "# mask_hook = masking.OutputMaskHook(torch.randn((1, 14, 768)))\n",
    "\n",
    "# Apply that hook to the output of the 3rd encoder layer\n",
    "# bert_hooked.apply_hook('encoder.layer.3.output',mask_hook)"
   ]
  },
  {
   "cell_type": "code",
   "execution_count": 8,
   "id": "5e6a7e3f",
   "metadata": {},
   "outputs": [],
   "source": [
    "# Evaluate masked model\n",
    "with torch.no_grad():\n",
    "    encoded_layers_masked = bert_hooked(tokens_tensor, token_type_ids=segments_tensors)"
   ]
  },
  {
   "cell_type": "code",
   "execution_count": 9,
   "id": "eccf48da",
   "metadata": {},
   "outputs": [],
   "source": [
    "# Remove hooks\n",
    "bert_hooked.remove_hooks()"
   ]
  },
  {
   "cell_type": "code",
   "execution_count": 10,
   "id": "a6102c19",
   "metadata": {},
   "outputs": [
    {
     "name": "stdout",
     "output_type": "stream",
     "text": [
      "True\n",
      "True\n",
      "True\n",
      "True\n",
      "False\n",
      "False\n",
      "False\n",
      "False\n",
      "False\n",
      "False\n",
      "False\n",
      "False\n",
      "False\n"
     ]
    }
   ],
   "source": [
    "# The output of the masked model does not equal that of the original model beyond layer 3\n",
    "for i in range(13):\n",
    "    print(torch.equal(encoded_layers[2][i],encoded_layers_masked[2][i]))"
   ]
  },
  {
   "cell_type": "code",
   "execution_count": null,
   "id": "c34bcf90",
   "metadata": {},
   "outputs": [],
   "source": []
  }
 ],
 "metadata": {
  "interpreter": {
   "hash": "c935a15b349c3a101a60cf1e50aca3ec761298db8b4efb5d7b9cf03774813039"
  },
  "kernelspec": {
   "display_name": "Python 3.10.9 ('bert_pytorch')",
   "language": "python",
   "name": "python3"
  },
  "language_info": {
   "codemirror_mode": {
    "name": "ipython",
    "version": 3
   },
   "file_extension": ".py",
   "mimetype": "text/x-python",
   "name": "python",
   "nbconvert_exporter": "python",
   "pygments_lexer": "ipython3",
   "version": "3.10.9"
  }
 },
 "nbformat": 4,
 "nbformat_minor": 5
}
